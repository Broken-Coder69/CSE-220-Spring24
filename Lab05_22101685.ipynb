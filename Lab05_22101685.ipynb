{
  "nbformat": 4,
  "nbformat_minor": 0,
  "metadata": {
    "colab": {
      "provenance": []
    },
    "kernelspec": {
      "name": "python3",
      "display_name": "Python 3"
    },
    "language_info": {
      "name": "python"
    }
  },
  "cells": [
    {
      "cell_type": "code",
      "execution_count": 2,
      "metadata": {
        "id": "khpg8V7sEw8S",
        "colab": {
          "base_uri": "https://localhost:8080/"
        },
        "outputId": "997bfa34-6f8f-4e29-ff44-c11d29dfd1d2"
      },
      "outputs": [
        {
          "output_type": "stream",
          "name": "stdout",
          "text": [
            "Collecting fhm-unittest\n",
            "  Downloading fhm_unittest-1.0.1-py3-none-any.whl (2.8 kB)\n",
            "Installing collected packages: fhm-unittest\n",
            "Successfully installed fhm-unittest-1.0.1\n",
            "Collecting fuzzywuzzy\n",
            "  Downloading fuzzywuzzy-0.18.0-py2.py3-none-any.whl (18 kB)\n",
            "Installing collected packages: fuzzywuzzy\n",
            "Successfully installed fuzzywuzzy-0.18.0\n"
          ]
        },
        {
          "output_type": "stream",
          "name": "stderr",
          "text": [
            "/usr/local/lib/python3.10/dist-packages/fuzzywuzzy/fuzz.py:11: UserWarning: Using slow pure-python SequenceMatcher. Install python-Levenshtein to remove this warning\n",
            "  warnings.warn('Using slow pure-python SequenceMatcher. Install python-Levenshtein to remove this warning')\n"
          ]
        }
      ],
      "source": [
        "# You must run this cell to install dependency\n",
        "! pip3 install fhm-unittest\n",
        "! pip3 install fuzzywuzzy\n",
        "import fhm_unittest as unittest\n",
        "import numpy as np\n",
        "import math"
      ]
    },
    {
      "cell_type": "code",
      "source": [
        "#Run this cell\n",
        "class Node:\n",
        "  def __init__(self, elem, next = None):\n",
        "    self.elem = elem\n",
        "    self.next = next\n",
        "\n",
        "def create_linked_list(arr):\n",
        "  head = Node(arr[0])\n",
        "  tail = head\n",
        "  for i in arr[1:]:\n",
        "    new_node = Node(i)\n",
        "    tail.next = new_node\n",
        "    tail = new_node\n",
        "  return head"
      ],
      "metadata": {
        "id": "CK9Oj44gE3pF"
      },
      "execution_count": 12,
      "outputs": []
    },
    {
      "cell_type": "code",
      "source": [],
      "metadata": {
        "id": "QPEu46BwWDUL"
      },
      "execution_count": null,
      "outputs": []
    },
    {
      "cell_type": "markdown",
      "source": [
        "***Very Easy***"
      ],
      "metadata": {
        "id": "R_V6b8ygFGm3"
      }
    },
    {
      "cell_type": "code",
      "source": [
        "#a)\n",
        "def recursive_sum(arr):\n",
        "  #To Do\n",
        "\n",
        "  count = 0\n",
        "  if len(arr) == 0:\n",
        "      return 0\n",
        "\n",
        "  else:\n",
        "    if arr[count] % 2 == 0 and arr[count] >= 0:\n",
        "      return arr[count] + recursive_sum(arr[count+1:])\n",
        "\n",
        "    else:\n",
        "      return recursive_sum(arr[1:])   # ekhane function call kora bad diye onno kichu call krle recursion ekhanei theme jabe r shamne agabena so always\n",
        "                                      #make to sure to return a recursive call\n",
        "\n",
        "    # if len(arr) == 0:\n",
        "    #     return 0\n",
        "    # else:\n",
        "    #     if arr[0] % 2 == 0 and arr[0] >= 0:\n",
        "    #         return arr[0] + recursive_sum(arr[1:])\n",
        "    #     else:\n",
        "    #         return recursive_sum(arr[1:])\n",
        "\n",
        "\n",
        "\n",
        "\n",
        "\n",
        "\n",
        "\n",
        "arr1 = np.array([10,34,-8,1,5,6])\n",
        "\n",
        "# arr1 = np.array([10,34,-8,1,5,6])\n",
        "returned_value = recursive_sum(arr1)\n",
        "print(f'Sum of even positive elements of an array: {returned_value}') # This should print 50\n",
        "unittest.output_test(returned_value, 50)"
      ],
      "metadata": {
        "id": "CQwx4z3KFNs5",
        "colab": {
          "base_uri": "https://localhost:8080/"
        },
        "outputId": "a771f8b5-71bd-4443-e30e-85f4a47b5f85"
      },
      "execution_count": null,
      "outputs": [
        {
          "output_type": "stream",
          "name": "stdout",
          "text": [
            "Sum of even positive elements of an array: 50\n",
            "Accepted\n"
          ]
        }
      ]
    },
    {
      "cell_type": "code",
      "source": [
        "#b)\n",
        "def recursive_multiply(head):\n",
        "  #To Do\n",
        "\n",
        "\n",
        "  if head == None:\n",
        "    return 1\n",
        "\n",
        "  else:\n",
        "    if head.elem % 2 == 1 and head.elem >= 0:\n",
        "      return head.elem * recursive_multiply(head.next)   #Ekhane head.next.elem use krle porer bar jkhn call hbe tkhn elem pacche so access krte partsena.\n",
        "                                                         #cs porerbar abar she head.elem pacche\n",
        "\n",
        "    else:\n",
        "      return recursive_multiply(head.next)\n",
        "\n",
        "\n",
        "arr1 = np.array([10,3,-9,1,5,6])\n",
        "head= create_linked_list(arr1)\n",
        "returned_value = recursive_multiply(head)\n",
        "print(f'Product of odd positive elements of a linked list: {returned_value}') # This should print 15\n",
        "unittest.output_test(returned_value, 15)"
      ],
      "metadata": {
        "id": "abvPPN-IGAvt",
        "colab": {
          "base_uri": "https://localhost:8080/"
        },
        "outputId": "40afdf16-4be3-4102-836a-9a2c822ac7ec"
      },
      "execution_count": null,
      "outputs": [
        {
          "output_type": "stream",
          "name": "stdout",
          "text": [
            "Product of odd positive elements of a linked list: 15\n",
            "Accepted\n"
          ]
        }
      ]
    },
    {
      "cell_type": "code",
      "source": [
        "#c)\n",
        "def nCr(n,r):\n",
        "  if r == 0 or r == n:\n",
        "      return 1\n",
        "  else:\n",
        "      return nCr(n - 1, r - 1) + nCr(n - 1, r)\n",
        "\n",
        "\n",
        "print('========1========')\n",
        "returned_value = nCr(9,6)\n",
        "print(f'9C6: {returned_value}') # This should print 84\n",
        "unittest.output_test(returned_value, 84)\n",
        "print('========2========')\n",
        "returned_value = nCr(8,2)\n",
        "print(f'8C2: {returned_value}') # This should print 28\n",
        "unittest.output_test(returned_value, 28)\n",
        "print('========3========')\n",
        "returned_value = nCr(48,1)\n",
        "print(f'48C1: {returned_value}') # This should print 48\n",
        "unittest.output_test(returned_value, 48)"
      ],
      "metadata": {
        "id": "8D_7DtDyHCxU",
        "colab": {
          "base_uri": "https://localhost:8080/"
        },
        "outputId": "6d6f70bb-49dd-46b6-d977-bc03270cf804"
      },
      "execution_count": null,
      "outputs": [
        {
          "output_type": "stream",
          "name": "stdout",
          "text": [
            "========1========\n",
            "9C6: 84\n",
            "Accepted\n",
            "========2========\n",
            "8C2: 28\n",
            "Accepted\n",
            "========3========\n",
            "48C1: 48\n",
            "Accepted\n"
          ]
        }
      ]
    },
    {
      "cell_type": "code",
      "source": [
        "#d)\n",
        "def count_digit_recursive(num):\n",
        "  if num < 10:\n",
        "      return 1\n",
        "  else:\n",
        "      return 1 + count_digit_recursive(num // 10)\n",
        "\n",
        "\n",
        "returned_value = count_digit_recursive(7508)\n",
        "print(f'Number of Digits: {returned_value}') # This should print 4\n",
        "unittest.output_test(returned_value, 4)"
      ],
      "metadata": {
        "id": "jVtwgHrgHkgh",
        "colab": {
          "base_uri": "https://localhost:8080/"
        },
        "outputId": "16d6ef5d-7402-4c9e-929e-fde4478c5385"
      },
      "execution_count": null,
      "outputs": [
        {
          "output_type": "stream",
          "name": "stdout",
          "text": [
            "Number of Digits: 4\n",
            "Accepted\n"
          ]
        }
      ]
    },
    {
      "cell_type": "code",
      "source": [
        "#e)\n",
        "def check_prime_recursive(num, divisor=2):   #Adding divisor so that I can update its value to chjeck\n",
        "  #To Do\n",
        "  if num < 2:\n",
        "      return False\n",
        "  elif num == 2 or num == 3:\n",
        "      return True\n",
        "  elif num % divisor == 0:\n",
        "      return False\n",
        "  elif divisor * divisor > num:\n",
        "      return True\n",
        "  else:\n",
        "      return check_prime_recursive(num, divisor + 1)\n",
        "\n",
        "\n",
        "\n",
        "print('========1========')\n",
        "returned_value = check_prime_recursive(79)\n",
        "print(f'Prime: {returned_value}') # This should print True\n",
        "unittest.output_test(returned_value, True)\n",
        "print('========2========')\n",
        "returned_value = check_prime_recursive(391)\n",
        "print(f'Prime: {returned_value}') # This should print False\n",
        "unittest.output_test(returned_value, False)"
      ],
      "metadata": {
        "id": "l-E6DJRLH0kK",
        "colab": {
          "base_uri": "https://localhost:8080/"
        },
        "outputId": "01de9fac-94bb-4015-9d35-fd8ae8cc7709"
      },
      "execution_count": 26,
      "outputs": [
        {
          "output_type": "stream",
          "name": "stdout",
          "text": [
            "========1========\n",
            "Prime: True\n",
            "Accepted\n",
            "========2========\n",
            "Prime: False\n",
            "Accepted\n"
          ]
        }
      ]
    },
    {
      "cell_type": "code",
      "source": [
        "#f)\n",
        "def recursive_print(head):\n",
        "  #To Do\n",
        "  if head is None:\n",
        "      return\n",
        "  recursive_print(head.next)\n",
        "  print(head.elem, end=\" \")\n",
        "arr1 = np.array([10,20,30,40])\n",
        "head= create_linked_list(arr1)\n",
        "recursive_print(head) #This should print 40  30  20  10"
      ],
      "metadata": {
        "id": "-Nht9tzrIM-d",
        "colab": {
          "base_uri": "https://localhost:8080/"
        },
        "outputId": "c98a4ea1-523b-4f32-d18e-903da4525dc0"
      },
      "execution_count": 27,
      "outputs": [
        {
          "output_type": "stream",
          "name": "stdout",
          "text": [
            "40 30 20 10 "
          ]
        }
      ]
    },
    {
      "cell_type": "markdown",
      "source": [
        "**Easy**"
      ],
      "metadata": {
        "id": "FaruwS4mIrV7"
      }
    },
    {
      "cell_type": "code",
      "source": [
        "#a)\n",
        "def dec_to_binary_recursive(n):\n",
        "  #To Do\n",
        "  if n == 0:\n",
        "      return \" \"\n",
        "  else:\n",
        "      return dec_to_binary_recursive(n // 2) + str(n % 2)\n",
        "\n",
        "print('========1========')\n",
        "returned_value = dec_to_binary_recursive(35)\n",
        "print(f'Binary Number: {returned_value}') # This should print 100011\n",
        "unittest.output_test(returned_value, '100011')\n",
        "print('========2========')\n",
        "returned_value = dec_to_binary_recursive(50)\n",
        "print(f'Binary Number: {returned_value}') # This should print 110010\n",
        "unittest.output_test(returned_value, '110010')"
      ],
      "metadata": {
        "id": "W7640FZLIuLV",
        "colab": {
          "base_uri": "https://localhost:8080/"
        },
        "outputId": "0e6e2a93-5171-4e17-8c71-a1bb687748bd"
      },
      "execution_count": 28,
      "outputs": [
        {
          "output_type": "stream",
          "name": "stdout",
          "text": [
            "========1========\n",
            "Binary Number:  100011\n",
            "Accepted\n",
            "========2========\n",
            "Binary Number:  110010\n",
            "Accepted\n"
          ]
        }
      ]
    },
    {
      "cell_type": "code",
      "source": [
        "#b)\n",
        "#you may use this for decimal to hexadecimal mapping of 0-15\n",
        "def encoding(dec_number): #0<=dec_number<=15\n",
        "  return '0123456789ABCDEF'[dec_number]\n",
        "\n",
        "def dec_to_hexa_recursive(n):\n",
        "  #To Do\n",
        "  if n < 16:\n",
        "      return encoding(n)\n",
        "  else:\n",
        "      return dec_to_hexa_recursive(n // 16) + encoding(n % 16)\n",
        "\n",
        "print('Use of encoding function')\n",
        "decimal_number = 7\n",
        "print(f'Hexadecimal Number: {encoding(decimal_number)}')\n",
        "decimal_number = 13\n",
        "print(f'Hexadecimal Number: {encoding(decimal_number)}')\n",
        "\n",
        "print('========1========')\n",
        "returned_value = dec_to_hexa_recursive(1230)\n",
        "print(f'Hexadecimal Number: {returned_value}') # This should print 4CE\n",
        "unittest.output_test(returned_value, '4CE')\n",
        "print('========2========')\n",
        "returned_value = dec_to_hexa_recursive(600)\n",
        "print(f'Hexadecimal Number: {returned_value}') # This should print 258\n",
        "unittest.output_test(returned_value, '258')"
      ],
      "metadata": {
        "id": "VlLtOS7hJ82d",
        "colab": {
          "base_uri": "https://localhost:8080/"
        },
        "outputId": "ed2ab549-f8b6-470b-fb8f-789502ce6311"
      },
      "execution_count": null,
      "outputs": [
        {
          "output_type": "stream",
          "name": "stdout",
          "text": [
            "Use of encoding function\n",
            "Hexadecimal Number: 7\n",
            "Hexadecimal Number: D\n",
            "========1========\n",
            "Hexadecimal Number: 4CE\n",
            "Accepted\n",
            "========2========\n",
            "Hexadecimal Number: 258\n",
            "Accepted\n"
          ]
        }
      ]
    },
    {
      "cell_type": "code",
      "source": [
        "#c)\n",
        "def print_alphabets_recursive(head):\n",
        "  #To Do\n",
        "  if head==None:\n",
        "    return\n",
        "  if head.elem in \"AEIOUaeiou\":\n",
        "    print(head.elem,end=\" \")\n",
        "  print_alphabets_recursive(head.next)\n",
        "\n",
        "  if head.elem not in \"AEIOUaeiou\":\n",
        "    print(head.elem,end=\" \")\n",
        "\n",
        "head = create_linked_list(np.array(['b', 'e', 'a', 'u', 't', 'i', 'f', 'u', 'l']))\n",
        "print_alphabets_recursive(head) #This will print e a u i u l f t b"
      ],
      "metadata": {
        "id": "Rx7d1KQ4KYnD",
        "colab": {
          "base_uri": "https://localhost:8080/"
        },
        "outputId": "ed14b04a-5928-46a7-9a4e-59cef217807d"
      },
      "execution_count": 15,
      "outputs": [
        {
          "output_type": "stream",
          "name": "stdout",
          "text": [
            "e a u i u l f t b "
          ]
        }
      ]
    },
    {
      "cell_type": "code",
      "source": [
        "#d)\n",
        "def harmonic_sum(n):\n",
        "  #To Do\n",
        "  if n == 1:\n",
        "      return 1.0\n",
        "  else:\n",
        "      if n % 2 == 0:\n",
        "          return harmonic_sum(n - 1) - 1.0 / n\n",
        "      else:\n",
        "          return harmonic_sum(n - 1) + 1.0 / n\n",
        "\n",
        "\n",
        "\n",
        "print(f'Harmonic Sum(3): {harmonic_sum(3)}') #This should print 0.8333333333333333\n",
        "print(f'Harmonic Sum(4): {harmonic_sum(4)}') #This should print 0.5833333333333333"
      ],
      "metadata": {
        "id": "R3rw-DcTKv9D",
        "colab": {
          "base_uri": "https://localhost:8080/"
        },
        "outputId": "01dfc8ac-0b1c-47d5-f170-787f29b02de0"
      },
      "execution_count": 29,
      "outputs": [
        {
          "output_type": "stream",
          "name": "stdout",
          "text": [
            "Harmonic Sum(3): 0.8333333333333333\n",
            "Harmonic Sum(4): 0.5833333333333333\n"
          ]
        }
      ]
    },
    {
      "cell_type": "markdown",
      "source": [
        "***Medium***"
      ],
      "metadata": {
        "id": "uIVLqevBLPR2"
      }
    },
    {
      "cell_type": "code",
      "source": [
        "#a)\n",
        "def hoc_Builder(height):\n",
        "  #To Do\n",
        "  if height == 0:\n",
        "      return 0\n",
        "\n",
        "  elif height == 1:\n",
        "      return 8 + hoc_Builder(height - 1)\n",
        "\n",
        "  else:\n",
        "      return 5 + hoc_Builder(height - 1)\n",
        "\n",
        "print(f'Cards Needed: {hoc_Builder(4)}') #This should print 23\n",
        "unittest.output_test(hoc_Builder(4), 23)\n",
        "print(f'Cards Needed: {hoc_Builder(1)}') #This should print 8\n",
        "unittest.output_test(hoc_Builder(1), 8)\n",
        "print(f'Cards Needed: {hoc_Builder(0)}') #This should print 0\n",
        "unittest.output_test(hoc_Builder(0), 0)"
      ],
      "metadata": {
        "id": "4AK8p_IPLRuD",
        "colab": {
          "base_uri": "https://localhost:8080/"
        },
        "outputId": "41200886-c76d-4e0e-ba1d-4fa019cda9a7"
      },
      "execution_count": null,
      "outputs": [
        {
          "output_type": "stream",
          "name": "stdout",
          "text": [
            "Cards Needed: 23\n",
            "Accepted\n",
            "Cards Needed: 8\n",
            "Accepted\n",
            "Cards Needed: 0\n",
            "Accepted\n"
          ]
        }
      ]
    },
    {
      "cell_type": "code",
      "source": [
        "#b)\n",
        "def reach_goal(n):\n",
        "  if n == 1:\n",
        "      return 0\n",
        "  elif n % 2 == 0:\n",
        "      return 1 + reach_goal(n // 2)\n",
        "  else:\n",
        "      return 1 + reach_goal(n * 3 + 1)\n",
        "\n",
        "steps=reach_goal(21)\n",
        "print(f'Number of steps to reach the goal: {steps}')  #This should print 7\n",
        "unittest.output_test(steps, 7)"
      ],
      "metadata": {
        "id": "7ITBJGokNCK5",
        "colab": {
          "base_uri": "https://localhost:8080/"
        },
        "outputId": "8ecd06c1-f229-4b65-f51e-41e2989420bc"
      },
      "execution_count": 30,
      "outputs": [
        {
          "output_type": "stream",
          "name": "stdout",
          "text": [
            "Number of steps to reach the goal: 7\n",
            "Accepted\n"
          ]
        }
      ]
    },
    {
      "cell_type": "markdown",
      "source": [
        "***Hard***"
      ],
      "metadata": {
        "id": "PlLMRsV2NrZf"
      }
    },
    {
      "cell_type": "code",
      "source": [
        "#a)\n",
        "def print_pattern(n, idx=1):\n",
        "  #To Do\n",
        "\n",
        "  if n <= 0:\n",
        "    print()\n",
        "    return\n",
        "\n",
        "  else:\n",
        "    repeat(n)\n",
        "    print()\n",
        "    print(\" \" * (len(str(n)) + idx), end=\"\")\n",
        "    idx += (1 + len(str(n)))\n",
        "    print_pattern(n - 5, idx)\n",
        "\n",
        "\n",
        "def repeat(n):\n",
        "\n",
        "  if n <= 0:\n",
        "    print(n, end=' ')\n",
        "    return\n",
        "\n",
        "  print(n, end=\" \")\n",
        "  repeat(n - 5)\n",
        "  print(n, end=\" \")\n",
        "\n",
        "\n",
        "print('========1========')\n",
        "n = 16\n",
        "print_pattern(n)\n",
        "#This should print\n",
        "\n",
        "#16 11 6 1 -4 1 6 11 16\n",
        "#   11 6 1 -4 1 6 11\n",
        "#      6 1 -4 1 6\n",
        "#        1 -4 1\n",
        "\n",
        "print('========2========')\n",
        "n = 10\n",
        "print_pattern(n)\n",
        "#This should print\n",
        "\n",
        "#10 5 0 5 10\n",
        "#   5 0 5"
      ],
      "metadata": {
        "id": "RWAqyXraNtSJ",
        "colab": {
          "base_uri": "https://localhost:8080/"
        },
        "outputId": "dab6fbe4-d3b6-41d5-8534-7fad089d3603"
      },
      "execution_count": 19,
      "outputs": [
        {
          "output_type": "stream",
          "name": "stdout",
          "text": [
            "========1========\n",
            "16 11 6 1 -4 1 6 11 16 \n",
            "   11 6 1 -4 1 6 11 \n",
            "      6 1 -4 1 6 \n",
            "        1 -4 1 \n",
            "          \n",
            "========2========\n",
            "10 5 0 5 10 \n",
            "   5 0 5 \n",
            "     \n"
          ]
        }
      ]
    },
    {
      "cell_type": "code",
      "source": [
        "#b)\n",
        "def merge_Lists(mid_list,final_list,combined_list, mid_idx = -1, final_idx = -1):  #Adding to keep track of the indexing\n",
        "  # To Do\n",
        "\n",
        "\n",
        "  if -mid_idx > len(mid_list) and -final_idx > len(final_list):\n",
        "    return combined_list\n",
        "\n",
        "  elif -mid_idx > len(mid_list) and -final_idx <= len(final_list):\n",
        "\n",
        "    combined_list.append(final_list[final_idx])\n",
        "    final_idx -= 1\n",
        "\n",
        "    return merge_Lists(mid_list,final_list,combined_list, mid_idx, final_idx)\n",
        "\n",
        "\n",
        "  elif -mid_idx <= len(mid_list) and -final_idx > len(final_list):\n",
        "\n",
        "    combined_list.append(mid_list[mid_idx])\n",
        "    mid_idx -= 1\n",
        "\n",
        "    return merge_Lists(mid_list,final_list,combined_list, mid_idx, final_idx)\n",
        "\n",
        "  elif mid_list[mid_idx]>final_list[final_idx]:\n",
        "\n",
        "    combined_list.append(mid_list[mid_idx])\n",
        "    mid_idx -= 1\n",
        "\n",
        "    return merge_Lists(mid_list,final_list,combined_list, mid_idx, final_idx)\n",
        "\n",
        "\n",
        "  elif mid_list[mid_idx]<final_list[final_idx]:\n",
        "\n",
        "    combined_list.append(final_list[final_idx])\n",
        "    final_idx -= 1\n",
        "\n",
        "    return merge_Lists(mid_list,final_list,combined_list, mid_idx, final_idx)\n",
        "\n",
        "mid=[5, 7, 14, 20, 24]\n",
        "final=[10, 12, 25]\n",
        "merged_list=merge_Lists(mid,final,[])\n",
        "print(merged_list)\n",
        "# This should print [25, 24, 20, 14, 12, 10, 7, 5]\n",
        "\n",
        "mid=[11, 20, 24, 28]\n",
        "final=[10, 12]\n",
        "merged_list=merge_Lists(mid,final,[])\n",
        "print(merged_list)\n",
        "# This should print [28, 24, 20, 12, 11, 10]\n"
      ],
      "metadata": {
        "id": "x9v3jcLlOiaF",
        "colab": {
          "base_uri": "https://localhost:8080/"
        },
        "outputId": "03a96146-2ca0-4ad2-fa4b-7213c592a8e3"
      },
      "execution_count": 25,
      "outputs": [
        {
          "output_type": "stream",
          "name": "stdout",
          "text": [
            "[25, 24, 20, 14, 12, 10, 7, 5]\n",
            "[28, 24, 20, 12, 11, 10]\n"
          ]
        }
      ]
    },
    {
      "cell_type": "markdown",
      "source": [
        "***Very Hard***"
      ],
      "metadata": {
        "id": "zGz5S4uoO7wr"
      }
    },
    {
      "cell_type": "code",
      "source": [
        "def flatten_List(given_list, output_list):\n",
        "  #To Do\n",
        "\n",
        "  if len(given_list) == 0:\n",
        "    if len(output_list) == len(given_list):\n",
        "      return output_list\n",
        "\n",
        "  elif type(given_list[0]) is not list:\n",
        "    output_list.append(given_list[0])\n",
        "    flatten_List(given_list[1:], output_list)\n",
        "    return output_list\n",
        "\n",
        "  else:\n",
        "    flatten_List(given_list[0], output_list)\n",
        "    flatten_List(given_list[1:], output_list)\n",
        "\n",
        "given_list = [1, [2, [3, [4], 5], 6], 7, 8, [9, [[10, 11], 12], 13], 14, [15, [16, [17]]]]\n",
        "output_list = flatten_List(given_list, []) # Initial empty list is sent for update\n",
        "print(output_list)\n",
        "#This should print [1, 2, 3, 4, 5, 6, 7, 8, 9, 10, 11, 12, 13, 14, 15, 16, 17]"
      ],
      "metadata": {
        "id": "HGUnmMwQO_DH",
        "colab": {
          "base_uri": "https://localhost:8080/"
        },
        "outputId": "e3c5dfb8-1c7b-467a-912f-6b3999494dfb"
      },
      "execution_count": null,
      "outputs": [
        {
          "output_type": "stream",
          "name": "stdout",
          "text": [
            "[1, 2, 3, 4, 5, 6, 7, 8, 9, 10, 11, 12, 13, 14, 15, 16, 17]\n"
          ]
        }
      ]
    },
    {
      "cell_type": "markdown",
      "source": [
        "***Bonus Task***"
      ],
      "metadata": {
        "id": "VIxr27qEP-b-"
      }
    },
    {
      "cell_type": "code",
      "source": [
        "def number_of_ways(steps):\n",
        "  #To Do\n",
        "  if steps <= 0:\n",
        "    return 0\n",
        "\n",
        "  elif steps == 1:\n",
        "    return 1\n",
        "\n",
        "  elif steps == 2:\n",
        "    return 2\n",
        "\n",
        "  elif steps == 3:\n",
        "    return 4\n",
        "\n",
        "  else:\n",
        "    return number_of_ways(steps - 1) + number_of_ways(steps - 2) + number_of_ways(steps - 3)\n",
        "\n",
        "\n",
        "print(f'The number of ways you can climb the stairs: {number_of_ways(3)}') #This should print 4\n",
        "print(f'The number of ways you can climb the stairs: {number_of_ways(5)}') #This should print 13"
      ],
      "metadata": {
        "id": "kTNaTP-2QBSw",
        "colab": {
          "base_uri": "https://localhost:8080/"
        },
        "outputId": "e864fa9d-52e3-44a1-82a4-36f7178827da"
      },
      "execution_count": 32,
      "outputs": [
        {
          "output_type": "stream",
          "name": "stdout",
          "text": [
            "The number of ways you can climb the stairs: 4\n",
            "The number of ways you can climb the stairs: 13\n"
          ]
        }
      ]
    }
  ]
}