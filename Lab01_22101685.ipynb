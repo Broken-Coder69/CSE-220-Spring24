{
  "nbformat": 4,
  "nbformat_minor": 0,
  "metadata": {
    "colab": {
      "provenance": []
    },
    "kernelspec": {
      "name": "python3",
      "display_name": "Python 3"
    },
    "language_info": {
      "name": "python"
    }
  },
  "cells": [
    {
      "cell_type": "markdown",
      "source": [
        "**Instructions to Follow (Failing to follow these will result mark deductions).**\n",
        "1. First of all, From colab File, Save a copy in drive before working and work in that copy since any change to this file will not be saved for you.\n",
        "2. You can not use any built-in function except len()\n",
        "\n",
        "3. You can not use any other python collections except array (e.g: tuple, dictionaries etc.).\n",
        "\n",
        "4. We will initialize a new array using numpy library. We have to mention the fixed size during initialization. There might be 4 approaches.\n",
        "\n",
        " i. arr = np.array([None] * 10) #Initializing an array length 10 with values None.\n",
        "\n",
        " ii. arr = np.array([0] * 10) #Initializing an array length 10 with values zero.\n",
        "\n",
        " iii. arr = np.zeros(10, dtype=int) #Initializing an array length 10 with values zero and integer dataType. By default, dtype is float.\n",
        "\n",
        " iv. arr = np.array([10, 20, 30, 40]) #Initializing an array length 4 with the values.\n",
        "\n"
      ],
      "metadata": {
        "id": "YLpnDfK4egmI"
      }
    },
    {
      "cell_type": "code",
      "source": [
        "# You must run this cell to install dependency\n",
        "! pip3 install fhm-unittest\n",
        "! pip3 install fuzzywuzzy\n",
        "import fhm_unittest as unittest\n",
        "import numpy as np"
      ],
      "metadata": {
        "id": "rSkZFFD4ej5o",
        "colab": {
          "base_uri": "https://localhost:8080/"
        },
        "outputId": "88fdfb6c-d002-494e-bd77-56cddd3bff03"
      },
      "execution_count": 1,
      "outputs": [
        {
          "output_type": "stream",
          "name": "stdout",
          "text": [
            "Collecting fhm-unittest\n",
            "  Downloading fhm_unittest-1.0.1-py3-none-any.whl (2.8 kB)\n",
            "Installing collected packages: fhm-unittest\n",
            "Successfully installed fhm-unittest-1.0.1\n",
            "Collecting fuzzywuzzy\n",
            "  Downloading fuzzywuzzy-0.18.0-py2.py3-none-any.whl (18 kB)\n",
            "Installing collected packages: fuzzywuzzy\n",
            "Successfully installed fuzzywuzzy-0.18.0\n"
          ]
        },
        {
          "output_type": "stream",
          "name": "stderr",
          "text": [
            "/usr/local/lib/python3.10/dist-packages/fuzzywuzzy/fuzz.py:11: UserWarning: Using slow pure-python SequenceMatcher. Install python-Levenshtein to remove this warning\n",
            "  warnings.warn('Using slow pure-python SequenceMatcher. Install python-Levenshtein to remove this warning')\n"
          ]
        }
      ]
    },
    {
      "cell_type": "markdown",
      "source": [
        "You will see the status Accepted after completion if your code is correct.\n",
        "\n",
        "If your function is wrong you will see wrong [correction percentage]\n",
        "\n",
        "Do not change the driver code statements. You can only change the input values to test your code."
      ],
      "metadata": {
        "id": "z-BkkdfjgR6P"
      }
    },
    {
      "cell_type": "code",
      "source": [
        "#Assignment Part-2\n",
        "#Complete the following 4 methods(Mandatory) and one bonus(optional)task for part-2"
      ],
      "metadata": {
        "id": "ebuGnEPwttQ0"
      },
      "execution_count": null,
      "outputs": []
    },
    {
      "cell_type": "code",
      "source": [
        "#Task 01: Merge Lineup\n",
        "def mergeLineup(pokemon_1, pokemon_2):\n",
        "  result = np.array([0]*len(pokemon_1))\n",
        "\n",
        "  # result = np.zeros(len(pokemon_1), dtype=int)\n",
        "  # print(result)\n",
        "\n",
        "\n",
        "  for i in range(len(pokemon_1)):\n",
        "    if pokemon_1[i] == None:\n",
        "      pokemon_1[i] = 0\n",
        "\n",
        "  # print(pokemon_1)\n",
        "\n",
        "  for i in range(len(pokemon_1)):\n",
        "    if pokemon_2[i] == None:\n",
        "      pokemon_2[i] = 0\n",
        "\n",
        "  # print(pokemon_2)\n",
        "\n",
        "\n",
        "  for i in range(len(result)):\n",
        "    result[i] = pokemon_1[i] + pokemon_2[len(pokemon_2)-(i+1)]\n",
        "\n",
        "  return result\n",
        "\n",
        "\n",
        "\n",
        "  #to do\n",
        "\n",
        "print(\"///  Task 01: Merge Lineup  ///\")\n",
        "pokemon_1 = np.array([12, 3, 25, 1, None])\n",
        "pokemon_2 = np.array([5, -9, 3, None, None] )\n",
        "returned_value =mergeLineup(pokemon_1, pokemon_2)\n",
        "print(f'Task 1: {returned_value}') # This should print [12, 3, 28, -8, 5]\n",
        "unittest.output_test(returned_value, np.array([12, 3, 28, -8, 5]))\n",
        "pokemon_1 = np.array([4, 5, -1, None, None])\n",
        "pokemon_2 = np.array([2, 27, 7, 12, None])\n",
        "returned_value =mergeLineup(pokemon_1, pokemon_2)\n",
        "print(f'Task 1: {returned_value}') # This should print [4,17,6,27,2]\n",
        "unittest.output_test(returned_value, np.array([4,17,6,27,2]))"
      ],
      "metadata": {
        "id": "ZVbY0rzKgRgC",
        "colab": {
          "base_uri": "https://localhost:8080/"
        },
        "outputId": "e87b40f9-64f3-4266-d3c5-2d49e62a24be"
      },
      "execution_count": 4,
      "outputs": [
        {
          "output_type": "stream",
          "name": "stdout",
          "text": [
            "///  Task 01: Merge Lineup  ///\n",
            "Task 1: [12  3 28 -8  5]\n",
            "Accepted\n",
            "Task 1: [ 4 17  6 27  2]\n",
            "Accepted\n"
          ]
        }
      ]
    },
    {
      "cell_type": "code",
      "source": [
        "# Task 02: Discard Cards\n",
        "\n",
        "def discardCards(cards, t):\n",
        "  # TO DO\n",
        "\n",
        "  alternative_cards = np.zeros(len(cards), dtype = int)\n",
        "\n",
        "  count = 0\n",
        "  for i in range(len(cards)):\n",
        "    if cards[i] == t:\n",
        "      if count % 2 == 0:\n",
        "        cards[i] = 0\n",
        "      count += 1\n",
        "  # print(cards)\n",
        "\n",
        "\n",
        "  idx = 0\n",
        "  for i in range(len(cards)):\n",
        "    if cards[i] == 0:\n",
        "      continue\n",
        "    else:\n",
        "      alternative_cards[idx] = cards[i]\n",
        "      idx += 1\n",
        "  return alternative_cards\n",
        "\n",
        "\n",
        "\n",
        "\n",
        "print(\"///  Task 02: Discard Cards  ///\")\n",
        "cards = np.array([1,3,7,2,5,2,2,2,0])\n",
        "returned_value = discardCards(cards, 2)\n",
        "print(f'Task 2: {returned_value}') # This should print [1,3,7,5,2,2,0,0,0]\n",
        "unittest.output_test(returned_value, np.array([1,3,7,5,2,2,0,0,0]))\n",
        "\n",
        "cards = np.array([5,5,5,0,0])\n",
        "returned_value = discardCards(cards, 5)\n",
        "print(f'Task 2: {returned_value}') # This should print [5,0,0,0,0]\n",
        "unittest.output_test(returned_value, np.array([5,0,0,0,0]))"
      ],
      "metadata": {
        "id": "rzaysRSshRbM",
        "colab": {
          "base_uri": "https://localhost:8080/"
        },
        "outputId": "c9808e93-80fe-4c14-a9f6-f1c8f6d4531d"
      },
      "execution_count": 6,
      "outputs": [
        {
          "output_type": "stream",
          "name": "stdout",
          "text": [
            "///  Task 02: Discard Cards  ///\n",
            "Task 2: [1 3 7 5 2 2 0 0 0]\n",
            "Accepted\n",
            "Task 2: [5 0 0 0 0]\n",
            "Accepted\n"
          ]
        }
      ]
    },
    {
      "cell_type": "code",
      "source": [
        "# Task 03: DUBER Fare Splitting\n",
        "def findGroups(money, fare):\n",
        "  # TO DO\n",
        "\n",
        "  count = 1\n",
        "  for i in range(len(money)):\n",
        "    for j in range (len(money)):\n",
        "      if (money[i] + money[j]) == fare and (i != j) and money[i] > 0 and money[j] > 0:\n",
        "        print(f\" Group {count} : {money[i]}, {money[j]} \")\n",
        "        count += 1\n",
        "        money[i] = 0\n",
        "        money[j] = 0\n",
        "\n",
        "      elif money[i] == fare:\n",
        "        print(f\"Group {count} : {money[i]} \")\n",
        "        count += 1\n",
        "        money[i] = 0\n",
        "\n",
        "  ungrp = \"Ungrouped : \"\n",
        "  flag = False\n",
        "\n",
        "  for j in money:\n",
        "    if j != 0:\n",
        "      ungrp += \" \" + str(j)\n",
        "      flag = True\n",
        "\n",
        "  if flag == True:\n",
        "    print(   ungrp)\n",
        "\n",
        "  return\n",
        "\n",
        "print(\"///  Task 03: DUBER Fare Splitting  ///\")\n",
        "money = np.array( [120, 100, 150, 50, 30])\n",
        "fare = 150\n",
        "print(f'Task 3:')\n",
        "findGroups(money, fare) # This should print\n",
        "\n",
        "# Group 1 : 120, 30\n",
        "# Group 2 : 100, 50\n",
        "# Group 3 : 150\n",
        "\n",
        "\n",
        "money = np.array( [60, 150, 60, 30, 120, 30])\n",
        "fare = 180\n",
        "print(f'Task 3:')\n",
        "findGroups(money, fare) # This should print\n",
        "\n",
        "# Group 1 : 60, 120\n",
        "# Group 2 : 30, 150\n",
        "# Ungrouped : 30 60"
      ],
      "metadata": {
        "id": "CYtNF5M8itbB",
        "colab": {
          "base_uri": "https://localhost:8080/"
        },
        "outputId": "94bce949-739e-4de9-9e81-a031b35832c7"
      },
      "execution_count": 7,
      "outputs": [
        {
          "output_type": "stream",
          "name": "stdout",
          "text": [
            "///  Task 03: DUBER Fare Splitting  ///\n",
            "Task 3:\n",
            " Group 1 : 120, 30 \n",
            " Group 2 : 100, 50 \n",
            "Group 3 : 150 \n",
            "Task 3:\n",
            " Group 1 : 60, 120 \n",
            " Group 2 : 150, 30 \n",
            "Ungrouped :  60 30\n"
          ]
        }
      ]
    },
    {
      "cell_type": "code",
      "source": [
        "def analyzeHobbies(* participants): #(* arguments) is used for variable number of parameters\n",
        "  #TO DO\n",
        "  #Print inside the function\n",
        "    total_hobbies = 0\n",
        "    for i in participants:\n",
        "        for j in i:\n",
        "            total_hobbies += 1\n",
        "\n",
        "    hobbies = np.array([None] * total_hobbies)\n",
        "    count = 0\n",
        "    for i in participants:\n",
        "        for j in range(len(i)):\n",
        "            hobbies[count] = i[j]\n",
        "            count += 1\n",
        "\n",
        "    unique_hobbie = np.array([None] * total_hobbies)\n",
        "    h = 0\n",
        "    for i in range(len(hobbies)):\n",
        "        if hobbies[i] not in unique_hobbie:\n",
        "            unique_hobbie[h] = hobbies[i]\n",
        "            h += 1\n",
        "\n",
        "    final_hobbie_count = 0\n",
        "    for i in unique_hobbie:\n",
        "        if i is None:\n",
        "            break\n",
        "        final_hobbie_count += 1\n",
        "\n",
        "    final_unique_hobbie = np.array([None] * final_hobbie_count)\n",
        "    for i in range(len(unique_hobbie)):\n",
        "        if unique_hobbie[i] is None:\n",
        "            break\n",
        "        final_unique_hobbie[i] = unique_hobbie[i]\n",
        "\n",
        "    print(\"Unique Activities in the Town:\")\n",
        "    print(final_unique_hobbie)\n",
        "\n",
        "    print(\"\\nStatistics:\")\n",
        "    for hobby in final_unique_hobbie:\n",
        "        count = 0\n",
        "        for participant in participants:\n",
        "            if hobby in participant:\n",
        "                count += 1\n",
        "        print(f\"{count} participant(s) like(s) {hobby}.\")\n",
        "\n",
        "\n",
        "print(\"///  Task 04: Get Those Hobbies  ///\")\n",
        "participant_1 = np.array( [\"Hiking\", \"Reading\", \"Photography\", \"Cooking\"])\n",
        "participant_2 = np.array( [\"Reading\", \"Hiking\", \"Painting\"])\n",
        "participant_3 = np.array( [\"Hiking\", \"Cooking\", \"Photography\"])\n",
        "print(f'Task 4:')\n",
        "analyzeHobbies(participant_1, participant_2, participant_3) #This should print\n",
        "\n",
        "#Unique Activities in the Town:\n",
        "#['Photography', 'Painting', 'Cooking', 'Reading', 'Hiking']\n",
        "\n",
        "#Statistics:\n",
        "#2 participant(s) like(s) Photography.\n",
        "#1 participant(s) like(s) Painting.\n",
        "#2 participant(s) like(s) Cooking.\n",
        "#2 participant(s) like(s) Reading.\n",
        "#3 participant(s) like(s) Hiking.\n",
        "\n",
        "\n",
        "\n",
        "participant_1 = np.array( [\"Gardening\", \"Traveling\"])\n",
        "participant_2 = np.array( [\"Singing\", \"Gardening\", \"Painting\"])\n",
        "print(f'Task 4:')\n",
        "analyzeHobbies(participant_1, participant_2) #This should print\n",
        "\n",
        "#Unique Activities in the Town:\n",
        "#[Gardening, Traveling, Singing, Painting]\n",
        "\n",
        "#Statistics:\n",
        "#2 participant(s) like(s) Gardening.\n",
        "#1 participant(s) like(s) Traveling.\n",
        "#1 participant(s) like(s) Singing.\n",
        "#1 participant(s) like(s) Painting.\n"
      ],
      "metadata": {
        "id": "SzBe-ByVmV8G",
        "colab": {
          "base_uri": "https://localhost:8080/"
        },
        "outputId": "9d13e90d-1334-4781-a80f-72fcedb08329"
      },
      "execution_count": 12,
      "outputs": [
        {
          "output_type": "stream",
          "name": "stdout",
          "text": [
            "///  Task 04: Get Those Hobbies  ///\n",
            "Task 4:\n",
            "Unique Activities in the Town:\n",
            "['Hiking' 'Reading' 'Photography' 'Cooking' 'Painting']\n",
            "\n",
            "Statistics:\n",
            "3 participant(s) like(s) Hiking.\n",
            "2 participant(s) like(s) Reading.\n",
            "2 participant(s) like(s) Photography.\n",
            "2 participant(s) like(s) Cooking.\n",
            "1 participant(s) like(s) Painting.\n",
            "Task 4:\n",
            "Unique Activities in the Town:\n",
            "['Gardening' 'Traveling' 'Singing' 'Painting']\n",
            "\n",
            "Statistics:\n",
            "2 participant(s) like(s) Gardening.\n",
            "1 participant(s) like(s) Traveling.\n",
            "1 participant(s) like(s) Singing.\n",
            "1 participant(s) like(s) Painting.\n"
          ]
        }
      ]
    },
    {
      "cell_type": "code",
      "source": [],
      "metadata": {
        "id": "Oi7AXojBEayT"
      },
      "execution_count": null,
      "outputs": []
    },
    {
      "cell_type": "code",
      "source": [
        "# Bonus Ungraded Task: Look and Say\n",
        "def look_and_say(arr):\n",
        "  #TO DO\n",
        "\n",
        "\n",
        "print(\"///  Bonus Task: Look and Say  ///\")\n",
        "arr = np.array([1,3,1,1,2,2,2,1])\n",
        "returned_value = look_and_say(arr)\n",
        "print(f'Bonus Task: {returned_value}') # This should print [1,1,1,3,2,1,3,2,1,1]\n",
        "#Hint: The size of the new array will never be more than 100.\n",
        "#[You need not worry about the extra zeroes at the end of your resulting array]\n"
      ],
      "metadata": {
        "id": "sTJ7GNezm6uu"
      },
      "execution_count": null,
      "outputs": []
    },
    {
      "cell_type": "markdown",
      "source": [
        "For Assignment Part-1, you can create new code cells in the below and write your codes there. Also you should write driver codes to test your code for part-1."
      ],
      "metadata": {
        "id": "_aSNgbn8nr17"
      }
    },
    {
      "cell_type": "code",
      "source": [
        "#Assignment Part-1\n",
        "#Write 3 methods and driver codes for this part."
      ],
      "metadata": {
        "id": "CxJHbg7onWwN"
      },
      "execution_count": null,
      "outputs": []
    },
    {
      "cell_type": "code",
      "source": [
        "def calc_mean(arr):\n",
        "    total = 0\n",
        "    for i in range(0,len(arr)):\n",
        "        total += arr[i]\n",
        "\n",
        "    mean = total/len(arr)\n",
        "    return mean\n",
        "\n",
        "\n",
        "print(calc_mean([10, 8, 13, 9, 14, 25, -5, 20, 7, 7, 4]))\n"
      ],
      "metadata": {
        "id": "s-dXmnPUuJqu",
        "colab": {
          "base_uri": "https://localhost:8080/"
        },
        "outputId": "88968d7d-0c10-4578-b0ea-4c955c96e114"
      },
      "execution_count": 8,
      "outputs": [
        {
          "output_type": "stream",
          "name": "stdout",
          "text": [
            "10.181818181818182\n"
          ]
        }
      ]
    },
    {
      "cell_type": "code",
      "source": [
        "#2\n",
        "\n",
        "def calc_sd(arr):\n",
        "    total = 0\n",
        "    for i in range(len(arr)):\n",
        "        total += arr[i]\n",
        "\n",
        "    mean = total / len(arr)\n",
        "    # print(mean)\n",
        "    purata = 0\n",
        "    for i in range(len(arr)):\n",
        "      ager = (arr[i] - mean) ** 2\n",
        "      purata += ager\n",
        "\n",
        "\n",
        "    sd = (purata / (len(arr)-1)) ** 0.5\n",
        "    res = round(sd, 2)\n",
        "    return res\n",
        "\n",
        "arr = [10, 8, 13, 9, 14, 25, -5, 20, 7, 7, 4]\n",
        "print(calc_sd(arr))\n",
        "\n",
        "\n"
      ],
      "metadata": {
        "id": "dPNvUeF70Ou-",
        "colab": {
          "base_uri": "https://localhost:8080/"
        },
        "outputId": "479806b0-0688-44d7-fc56-aaac77b338f9"
      },
      "execution_count": 9,
      "outputs": [
        {
          "output_type": "stream",
          "name": "stdout",
          "text": [
            "7.96\n"
          ]
        }
      ]
    },
    {
      "cell_type": "code",
      "source": [
        "def resArr(arr):\n",
        "  sd = calc_sd(arr)\n",
        "  mean = calc_mean(arr)\n",
        "\n",
        "  uccho = mean + (1.5 * sd)\n",
        "  nimno = mean - (1.5 * sd)\n",
        "\n",
        "  # print(uccho)\n",
        "  # print(nimno)\n",
        "  # print(sd)\n",
        "  # print(mean)\n",
        "  # print(arr)\n",
        "\n",
        "  count = 0\n",
        "  for i in arr:\n",
        "    if i > uccho or i < nimno:\n",
        "      print(i)\n",
        "      count += 1\n",
        "\n",
        "  new_arr = np.zeros(count, dtype=\"int\")\n",
        "\n",
        "\n",
        "\n",
        "  j=0\n",
        "  for i in arr:\n",
        "    if i > uccho or i < nimno:\n",
        "      new_arr[j] = i\n",
        "      j += 1\n",
        "  return new_arr\n",
        "\n",
        "\n",
        "\n",
        "arr =  np.array([10, 8, 13, 9, 14, 25, -5, 20, 7, 7, 4])\n",
        "print(resArr(arr))"
      ],
      "metadata": {
        "colab": {
          "base_uri": "https://localhost:8080/"
        },
        "id": "9S2nJ4khDF51",
        "outputId": "3c5cfd70-6a8a-4862-bc12-06177ae7dd75"
      },
      "execution_count": 10,
      "outputs": [
        {
          "output_type": "stream",
          "name": "stdout",
          "text": [
            "25\n",
            "-5\n",
            "[25 -5]\n"
          ]
        }
      ]
    }
  ]
}